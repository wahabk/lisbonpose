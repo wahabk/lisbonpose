{
 "cells": [
  {
   "cell_type": "code",
   "execution_count": 2,
   "id": "8702c4c8-6393-414a-b4aa-3f4b6d443e55",
   "metadata": {},
   "outputs": [],
   "source": [
    "import lisbonpose"
   ]
  },
  {
   "cell_type": "code",
   "execution_count": null,
   "id": "c8903229-dd08-481e-af9b-9a0576782873",
   "metadata": {},
   "outputs": [],
   "source": []
  }
 ],
 "metadata": {
  "kernelspec": {
   "display_name": "Python 3 (ipykernel)",
   "language": "python",
   "name": "python3"
  },
  "language_info": {
   "codemirror_mode": {
    "name": "ipython",
    "version": 3
   },
   "file_extension": ".py",
   "mimetype": "text/x-python",
   "name": "python",
   "nbconvert_exporter": "python",
   "pygments_lexer": "ipython3",
   "version": "3.8.12"
  }
 },
 "nbformat": 4,
 "nbformat_minor": 5
}
